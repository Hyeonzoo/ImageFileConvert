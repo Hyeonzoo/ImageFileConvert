{
 "cells": [
  {
   "cell_type": "markdown",
   "metadata": {},
   "source": [
    "## image format convert\n",
    "2021/04/28\n",
    "- HEIC TO JPG\n",
    "- https://pypi.org/project/pyheif/\n",
    "- 지정한 폴더 안에 모든 이미지 파일 jpg로 변경하기"
   ]
  },
  {
   "cell_type": "code",
   "execution_count": 1,
   "metadata": {},
   "outputs": [
    {
     "name": "stdout",
     "output_type": "stream",
     "text": [
      "/home/hyeonjoo/work/repos/file_convert\n"
     ]
    }
   ],
   "source": [
    "%cd /home/hyeonjoo/work/repos/file_convert"
   ]
  },
  {
   "cell_type": "code",
   "execution_count": 2,
   "metadata": {},
   "outputs": [],
   "source": [
    "from PIL import Image\n",
    "import pyheif\n",
    "import glob"
   ]
  },
  {
   "cell_type": "markdown",
   "metadata": {},
   "source": [
    "이미지 폴더 확인"
   ]
  },
  {
   "cell_type": "code",
   "execution_count": 3,
   "metadata": {},
   "outputs": [],
   "source": [
    "files = sorted(glob.glob('/home/hyeonjoo/work/repos/file_convert/image_file/*'))"
   ]
  },
  {
   "cell_type": "code",
   "execution_count": 4,
   "metadata": {
    "scrolled": true
   },
   "outputs": [
    {
     "data": {
      "text/plain": [
       "['/home/hyeonjoo/work/repos/file_convert/image_file/IMG_4380.HEIC',\n",
       " '/home/hyeonjoo/work/repos/file_convert/image_file/IMG_4382.HEIC',\n",
       " '/home/hyeonjoo/work/repos/file_convert/image_file/IMG_4386.HEIC',\n",
       " '/home/hyeonjoo/work/repos/file_convert/image_file/IMG_4387.HEIC',\n",
       " '/home/hyeonjoo/work/repos/file_convert/image_file/IMG_4388.HEIC',\n",
       " '/home/hyeonjoo/work/repos/file_convert/image_file/IMG_4389.HEIC',\n",
       " '/home/hyeonjoo/work/repos/file_convert/image_file/IMG_4394.HEIC',\n",
       " '/home/hyeonjoo/work/repos/file_convert/image_file/IMG_4395.HEIC',\n",
       " '/home/hyeonjoo/work/repos/file_convert/image_file/IMG_4396.HEIC',\n",
       " '/home/hyeonjoo/work/repos/file_convert/image_file/IMG_4397.HEIC',\n",
       " '/home/hyeonjoo/work/repos/file_convert/image_file/IMG_4400.HEIC',\n",
       " '/home/hyeonjoo/work/repos/file_convert/image_file/IMG_4401.HEIC',\n",
       " '/home/hyeonjoo/work/repos/file_convert/image_file/IMG_4402.HEIC',\n",
       " '/home/hyeonjoo/work/repos/file_convert/image_file/IMG_4403.HEIC',\n",
       " '/home/hyeonjoo/work/repos/file_convert/image_file/IMG_4404.HEIC',\n",
       " '/home/hyeonjoo/work/repos/file_convert/image_file/IMG_4405.HEIC',\n",
       " '/home/hyeonjoo/work/repos/file_convert/image_file/IMG_4406.HEIC',\n",
       " '/home/hyeonjoo/work/repos/file_convert/image_file/IMG_4407.HEIC',\n",
       " '/home/hyeonjoo/work/repos/file_convert/image_file/IMG_4408.HEIC',\n",
       " '/home/hyeonjoo/work/repos/file_convert/image_file/IMG_4409.HEIC',\n",
       " '/home/hyeonjoo/work/repos/file_convert/image_file/IMG_4410.HEIC',\n",
       " '/home/hyeonjoo/work/repos/file_convert/image_file/IMG_4411.HEIC',\n",
       " '/home/hyeonjoo/work/repos/file_convert/image_file/IMG_4412.HEIC']"
      ]
     },
     "execution_count": 4,
     "metadata": {},
     "output_type": "execute_result"
    }
   ],
   "source": [
    "files"
   ]
  },
  {
   "cell_type": "code",
   "execution_count": 5,
   "metadata": {},
   "outputs": [],
   "source": [
    "import numpy as np"
   ]
  },
  {
   "cell_type": "code",
   "execution_count": 6,
   "metadata": {},
   "outputs": [],
   "source": [
    "file_cnt = np.shape(files)[0]"
   ]
  },
  {
   "cell_type": "code",
   "execution_count": 7,
   "metadata": {
    "scrolled": true
   },
   "outputs": [
    {
     "data": {
      "text/plain": [
       "23"
      ]
     },
     "execution_count": 7,
     "metadata": {},
     "output_type": "execute_result"
    }
   ],
   "source": [
    "file_cnt"
   ]
  },
  {
   "cell_type": "code",
   "execution_count": 8,
   "metadata": {},
   "outputs": [],
   "source": [
    "convert_path = \"/home/hyeonjoo/work/repos/file_convert/convert_file/\""
   ]
  },
  {
   "cell_type": "markdown",
   "metadata": {},
   "source": [
    "이미지 확장자 변환"
   ]
  },
  {
   "cell_type": "code",
   "execution_count": 9,
   "metadata": {},
   "outputs": [],
   "source": [
    "for i in range(0, file_cnt):\n",
    "    # image path\n",
    "    img_path = files[i]\n",
    "    #print(img_path)\n",
    "    \n",
    "    # image file name\n",
    "    img_name = img_path[-13:-5]\n",
    "    #print(img_name)\n",
    "    \n",
    "    # import image\n",
    "    heif_file = pyheif.read(img_path)\n",
    "    \n",
    "    image = Image.frombytes(\n",
    "    heif_file.mode, \n",
    "    heif_file.size, \n",
    "    heif_file.data,\n",
    "    \"raw\",\n",
    "    heif_file.mode,\n",
    "    heif_file.stride,\n",
    "    )\n",
    "    \n",
    "    #print(image)\n",
    "    \n",
    "    image.save(convert_path + img_name + \".jpg\", \"JPEG\")"
   ]
  },
  {
   "cell_type": "markdown",
   "metadata": {},
   "source": [
    "저장된 파일 확인"
   ]
  },
  {
   "cell_type": "code",
   "execution_count": 10,
   "metadata": {},
   "outputs": [],
   "source": [
    "convert_files = sorted(glob.glob('/home/hyeonjoo/work/repos/file_convert/convert_file/*'))"
   ]
  },
  {
   "cell_type": "code",
   "execution_count": 11,
   "metadata": {},
   "outputs": [
    {
     "data": {
      "text/plain": [
       "['/home/hyeonjoo/work/repos/file_convert/convert_file/IMG_4380.jpg',\n",
       " '/home/hyeonjoo/work/repos/file_convert/convert_file/IMG_4382.jpg',\n",
       " '/home/hyeonjoo/work/repos/file_convert/convert_file/IMG_4386.jpg',\n",
       " '/home/hyeonjoo/work/repos/file_convert/convert_file/IMG_4387.jpg',\n",
       " '/home/hyeonjoo/work/repos/file_convert/convert_file/IMG_4388.jpg',\n",
       " '/home/hyeonjoo/work/repos/file_convert/convert_file/IMG_4389.jpg',\n",
       " '/home/hyeonjoo/work/repos/file_convert/convert_file/IMG_4394.jpg',\n",
       " '/home/hyeonjoo/work/repos/file_convert/convert_file/IMG_4395.jpg',\n",
       " '/home/hyeonjoo/work/repos/file_convert/convert_file/IMG_4396.jpg',\n",
       " '/home/hyeonjoo/work/repos/file_convert/convert_file/IMG_4397.jpg',\n",
       " '/home/hyeonjoo/work/repos/file_convert/convert_file/IMG_4400.jpg',\n",
       " '/home/hyeonjoo/work/repos/file_convert/convert_file/IMG_4401.jpg',\n",
       " '/home/hyeonjoo/work/repos/file_convert/convert_file/IMG_4402.jpg',\n",
       " '/home/hyeonjoo/work/repos/file_convert/convert_file/IMG_4403.jpg',\n",
       " '/home/hyeonjoo/work/repos/file_convert/convert_file/IMG_4404.jpg',\n",
       " '/home/hyeonjoo/work/repos/file_convert/convert_file/IMG_4405.jpg',\n",
       " '/home/hyeonjoo/work/repos/file_convert/convert_file/IMG_4406.jpg',\n",
       " '/home/hyeonjoo/work/repos/file_convert/convert_file/IMG_4407.jpg',\n",
       " '/home/hyeonjoo/work/repos/file_convert/convert_file/IMG_4408.jpg',\n",
       " '/home/hyeonjoo/work/repos/file_convert/convert_file/IMG_4409.jpg',\n",
       " '/home/hyeonjoo/work/repos/file_convert/convert_file/IMG_4410.jpg',\n",
       " '/home/hyeonjoo/work/repos/file_convert/convert_file/IMG_4411.jpg',\n",
       " '/home/hyeonjoo/work/repos/file_convert/convert_file/IMG_4412.jpg']"
      ]
     },
     "execution_count": 11,
     "metadata": {},
     "output_type": "execute_result"
    }
   ],
   "source": [
    "convert_files"
   ]
  },
  {
   "cell_type": "code",
   "execution_count": 13,
   "metadata": {},
   "outputs": [
    {
     "data": {
      "text/plain": [
       "23"
      ]
     },
     "execution_count": 13,
     "metadata": {},
     "output_type": "execute_result"
    }
   ],
   "source": [
    "np.shape(convert_files)[0]"
   ]
  }
 ],
 "metadata": {
  "kernelspec": {
   "display_name": "Python 3",
   "language": "python",
   "name": "python3"
  },
  "language_info": {
   "codemirror_mode": {
    "name": "ipython",
    "version": 3
   },
   "file_extension": ".py",
   "mimetype": "text/x-python",
   "name": "python",
   "nbconvert_exporter": "python",
   "pygments_lexer": "ipython3",
   "version": "3.6.9"
  }
 },
 "nbformat": 4,
 "nbformat_minor": 4
}
